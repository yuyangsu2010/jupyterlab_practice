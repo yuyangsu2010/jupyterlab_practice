{
 "cells": [
  {
   "cell_type": "markdown",
   "id": "ef5a7bc8-3b7f-451d-a4d6-1e2afaa2a4e0",
   "metadata": {},
   "source": [
    "# Yuyang Su\n",
    "### Notebook for assignment 7"
   ]
  },
  {
   "cell_type": "code",
   "execution_count": 3,
   "id": "ebae752e-b9d7-497b-aba5-d8f3e76f2e55",
   "metadata": {},
   "outputs": [],
   "source": [
    "import statistics"
   ]
  },
  {
   "cell_type": "code",
   "execution_count": 4,
   "id": "42a01d28-ab56-4375-8b47-5b8a8a8da85f",
   "metadata": {},
   "outputs": [
    {
     "data": {
      "text/plain": [
       "5"
      ]
     },
     "execution_count": 4,
     "metadata": {},
     "output_type": "execute_result"
    }
   ],
   "source": [
    "def compute_mean(numerical_list):\n",
    "    mean_list = statistics.mean(numerical_list)\n",
    "    return mean_list\n",
    "compute_mean([2,4,6,8])"
   ]
  },
  {
   "cell_type": "markdown",
   "id": "6cc8c55f-b1bf-4ff6-9296-77a1c947f90e",
   "metadata": {},
   "source": [
    "### The function would calculate the mean value of any give numerical list as shown below:\n",
    "\n",
    "$ \\overline{x} = \\frac{x_1+x_2+...+x_n}{n} = \\frac{1}{n} (\\sum_{i=1}^{n} x_i)$"
   ]
  },
  {
   "cell_type": "code",
   "execution_count": null,
   "id": "e9ade79a-e46c-4b60-8ccc-10a95cdd8725",
   "metadata": {},
   "outputs": [],
   "source": []
  }
 ],
 "metadata": {
  "kernelspec": {
   "display_name": "Python [conda env:practice_env]",
   "language": "python",
   "name": "conda-env-practice_env-py"
  },
  "language_info": {
   "codemirror_mode": {
    "name": "ipython",
    "version": 3
   },
   "file_extension": ".py",
   "mimetype": "text/x-python",
   "name": "python",
   "nbconvert_exporter": "python",
   "pygments_lexer": "ipython3",
   "version": "3.12.5"
  }
 },
 "nbformat": 4,
 "nbformat_minor": 5
}
